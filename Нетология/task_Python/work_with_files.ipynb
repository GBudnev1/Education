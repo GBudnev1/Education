{
 "cells": [
  {
   "cell_type": "code",
   "execution_count": null,
   "id": "ff3662e2",
   "metadata": {},
   "outputs": [],
   "source": [
    "'''\n",
    "Переведите содержимое файла purchase_log.txt в словарь purchases вида:\n",
    "{‘1840e0b9d4’: ‘Продукты’, …}\n",
    "\n",
    "Для каждого user_id в файле visit_log.csv определите третий столбец с категорией покупки\n",
    "(если покупка была, сам файл visit_log.csv изменять не надо). Запишите в файл funnel.csv\n",
    "визиты из файла visit_log.csv, в которых были покупки с указанием категории.\n",
    "Учтите условия на данные:\n",
    "содержимое purchase_log.txt помещается в оперативную память компьютера\n",
    "содержимое visit_log.csv - нет; используйте только построчную обработку этого файла\n",
    "'''"
   ]
  },
  {
   "cell_type": "code",
   "execution_count": 2,
   "id": "4b1e6a11",
   "metadata": {},
   "outputs": [],
   "source": [
    "import json\n",
    "from pathlib import Path\n",
    "import os\n",
    "\n",
    "\n",
    "def run_main():\n",
    "\n",
    "    with open(os.path.join(Path.home(), \"purchase_log.txt\"), 'r', encoding=\"utf-8\") as pur_f:\n",
    "        with open(os.path.join(Path.home(), \"visit_log.csv\"), 'r', encoding=\"utf-8\") as visit_f:\n",
    "            with open(os.path.join(Path.home(), \"funnel.csv\"), \"w\", encoding=\"utf-8\") as fun_f:\n",
    "                for i, line in enumerate(pur_f):\n",
    "                    if i == 0:\n",
    "                        continue\n",
    "                    line = line.strip()\n",
    "                    pur_dict = json.loads(line)\n",
    "                    for x, line_v in enumerate(visit_f):\n",
    "                        if x == 0:\n",
    "                            continue\n",
    "                        if pur_dict['user_id'] in line_v:\n",
    "                            fun_f.writelines(f\"{line_v.strip()},{pur_dict['category']}\")\n",
    "\n",
    "\n",
    "if __name__ == '__main__':\n",
    "    run_main()"
   ]
  }
 ],
 "metadata": {
  "kernelspec": {
   "display_name": "Python 3",
   "language": "python",
   "name": "python3"
  },
  "language_info": {
   "codemirror_mode": {
    "name": "ipython",
    "version": 3
   },
   "file_extension": ".py",
   "mimetype": "text/x-python",
   "name": "python",
   "nbconvert_exporter": "python",
   "pygments_lexer": "ipython3",
   "version": "3.8.8"
  }
 },
 "nbformat": 4,
 "nbformat_minor": 5
}
