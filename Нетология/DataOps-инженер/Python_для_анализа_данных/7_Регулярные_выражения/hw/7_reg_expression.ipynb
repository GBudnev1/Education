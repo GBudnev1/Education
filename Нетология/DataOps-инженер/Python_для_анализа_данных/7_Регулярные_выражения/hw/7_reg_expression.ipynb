{
 "cells": [
  {
   "cell_type": "code",
   "execution_count": 3,
   "id": "8025a033",
   "metadata": {
    "scrolled": true
   },
   "outputs": [
    {
     "name": "stdout",
     "output_type": "stream",
     "text": [
      "Номер А222ВС валиден. Регион: 96\n",
      "Номер не валиден\n"
     ]
    }
   ],
   "source": [
    "\"\"\"\n",
    "Задание 1\n",
    "Напишите функцию, которая принимает на вход строку и проверяет является ли она валидным транспортным номером\n",
    "(1 буква, 3 цифры, 2 буквы, 2-3 цифры). Обратите внимание, что не все буквы кириллического алфавита используются в\n",
    "транспортных номерах.\n",
    "\n",
    "Если номер валиден, то функция должна возвращать отдельно номер и регион.\n",
    "\n",
    "Примеры работы программы:\n",
    "\n",
    "car_id = 'A222BC96’\n",
    "Результат: Номер A222BС валиден. Регион: 96\n",
    "\n",
    "car_id = 'АБ22ВВ193’\n",
    "Результат: Номер не валиден\n",
    "\"\"\"\n",
    "import re\n",
    "\n",
    "\n",
    "def validate_car_number(car_id):\n",
    "    car_id_re = r\"(^[А-Я]{1}\\d{3}[А-Я]{2})(\\d{2,3})\"\n",
    "    res = re.search(car_id_re, car_id)\n",
    "    if res:\n",
    "        print(f\"Номер {res.group(1)} валиден. Регион: {res.group(2)}\")\n",
    "    else:\n",
    "        print(\"Номер не валиден\")\n",
    "\n",
    "\n",
    "car_id = 'А222ВС96'\n",
    "validate_car_number(car_id)\n",
    "car_id = 'АБ22ВВ193'\n",
    "validate_car_number(car_id)"
   ]
  },
  {
   "cell_type": "code",
   "execution_count": 4,
   "id": "9403b09f",
   "metadata": {},
   "outputs": [
    {
     "name": "stdout",
     "output_type": "stream",
     "text": [
      "Напишите функцию, которая будет удалять все последовательные повторы слов из заданной строки при помощи регулярных выражений.\n"
     ]
    }
   ],
   "source": [
    "\"\"\"\n",
    "Задание 2\n",
    "Напишите функцию, которая будет удалять все последовательные повторы слов из заданной строки при помощи регулярных выражений.\n",
    "\n",
    "Пример работы программы:\n",
    "some_string = 'Напишите функцию функцию, которая будет будет будет будет удалять все все все все последовательные повторы\n",
    "слов из из из из заданной строки строки при помощи регулярных выражений.'\n",
    "\n",
    "Результат:\n",
    "Напишите функцию, которая будет удалять все последовательные повторы слов из заданной строки при помощи регулярных выражений.\n",
    "\"\"\"\n",
    "import re\n",
    "\n",
    "\n",
    "def del_repeat_of_words(in_text):\n",
    "    return re.sub(r\"(\\W(\\w+))\\1+\", r'\\1', in_text)\n",
    "\n",
    "\n",
    "some_string = \"Напишите функцию функцию, которая будет будет будет будет удалять все все все все последовательные \" \\\n",
    "              \"повторы слов из из из из заданной строки строки при помощи регулярных выражений.\"\n",
    "\n",
    "print(del_repeat_of_words(some_string))"
   ]
  },
  {
   "cell_type": "code",
   "execution_count": 5,
   "id": "65db35bb",
   "metadata": {},
   "outputs": [
    {
     "name": "stdout",
     "output_type": "stream",
     "text": [
      "ИТ\n",
      "NFC\n"
     ]
    }
   ],
   "source": [
    "\"\"\"\n",
    "Задание 3\n",
    "Напишите функцию, которая будет возвращать акроним по переданной в нее строке со словами.\n",
    "\n",
    "Примеры работы программы:\n",
    "\n",
    "some_words = 'Информационные технологии'\n",
    "Результат: ИТ\n",
    "\n",
    "some_words = 'Near Field Communication'\n",
    "Результат: NFC\n",
    "\"\"\"\n",
    "import re\n",
    "\n",
    "\n",
    "def get_acronyms(in_text):\n",
    "    res = re.findall(r\"\\b(\\w)\", in_text)\n",
    "    return \"\".join(res).upper()\n",
    "\n",
    "\n",
    "some_words = 'Информационные технологии'\n",
    "print(get_acronyms(some_words))\n",
    "some_words = 'Near Field Communication'\n",
    "print(get_acronyms(some_words))"
   ]
  },
  {
   "cell_type": "code",
   "execution_count": 7,
   "id": "d62e19f2",
   "metadata": {},
   "outputs": [
    {
     "name": "stdout",
     "output_type": "stream",
     "text": [
      "gmail.com: 2\n",
      "test.in: 1\n",
      "ya.ru: 2\n",
      "mail.ru: 1\n"
     ]
    }
   ],
   "source": [
    "\"\"\"\n",
    "Задание 4\n",
    "Напишите функцию, которая будет принимать на вход список email-адресов и выводить их распределение по доменным зонам.\n",
    "\n",
    "Пример работы программы:\n",
    "emails = ['test@gmail.com', 'xyz@test.in', 'test@ya.ru', 'xyz@mail.ru', 'xyz@ya.ru', 'xyz@gmail.com']\n",
    "\n",
    "Результат:\n",
    "gmail.com: 2\n",
    "test.in: 1\n",
    "ya.ru: 2\n",
    "mail.ru: 1\n",
    "\"\"\"\n",
    "import re\n",
    "\n",
    "\n",
    "def get_mails(in_text):\n",
    "    my_dict = {}\n",
    "    for mail in in_text:\n",
    "        res = re.search(r\"@([^.]+\\.\\w+)\", mail)\n",
    "        if my_dict.get(res.group(1)):\n",
    "            my_dict[res.group(1)] = my_dict.get(res.group(1)) + 1\n",
    "        else:\n",
    "            my_dict[res.group(1)] = 1\n",
    "    return my_dict\n",
    "\n",
    "\n",
    "emails = ['test@gmail.com', 'xyz@test.in', 'test@ya.ru', 'xyz@mail.ru', 'xyz@ya.ru', 'xyz@gmail.com']\n",
    "for k, v in get_mails(emails).items():\n",
    "    print(f\"{k}: {v}\")\n"
   ]
  },
  {
   "cell_type": "code",
   "execution_count": 8,
   "id": "16c951b6",
   "metadata": {},
   "outputs": [
    {
     "name": "stdout",
     "output_type": "stream",
     "text": [
      "Слов на гласные буквы: 9\n",
      "Слов на согласные буквы: 21\n"
     ]
    }
   ],
   "source": [
    "\"\"\"\n",
    "Задание 5 (необязательное)\n",
    "Напишите функцию, которая будет подсчитывать сколько слов начинается на гласные, а сколько на согласные буквы в тексте\n",
    "(текст может быть написан как с использованием букв кириллицы, так и латиницы).\n",
    "Пример работы программы:\n",
    "some_text = 'Эталонной реализацией Python является интерпретатор CPython, поддерживающий большинство активно\n",
    "используемых платформ. Он распространяется под свободной лицензией Python Software Foundation License,\n",
    "позволяющей использовать его без ограничений в любых приложениях, включая проприетарные.'\n",
    "Результат:\n",
    "Слов на гласные буквы: 9\n",
    "Слов на согласные буквы: 21\n",
    "\"\"\"\n",
    "import re\n",
    "\n",
    "\n",
    "def split_v_cons(in_text):\n",
    "    re_vow = r'\\b([аеёиоуыэюяaeiouy]{1})'   # гласные\n",
    "    re_cons = r'\\b([бвгджзйклмнпрстфхцчшщbcdfghjklmnpqrstvwxyz]{1})'    # согласные\n",
    "    print(f\"Слов на гласные буквы: {len(re.findall(re_vow, in_text.lower()))}\")\n",
    "    print(f\"Слов на согласные буквы: {len(re.findall(re_cons, in_text.lower()))}\")\n",
    "\n",
    "\n",
    "some_text = 'Эталонной реализацией Python является интерпретатор CPython, поддерживающий большинство активно ' \\\n",
    "            'используемых платформ. Он распространяется под свободной лицензией Python Software Foundation License, ' \\\n",
    "            'позволяющей использовать его без ограничений в любых приложениях, включая проприетарные.'\n",
    "\n",
    "split_v_cons(some_text)"
   ]
  },
  {
   "cell_type": "code",
   "execution_count": 9,
   "id": "c1a0cc40",
   "metadata": {},
   "outputs": [
    {
     "name": "stdout",
     "output_type": "stream",
     "text": [
      "+7-955-555-55-55\n",
      "+7-955-555-55-55\n",
      "+7-955-555-55-55\n",
      "+7-955-555-55-55\n",
      "Номер не валиден\n",
      "Номер не валиден\n"
     ]
    }
   ],
   "source": [
    "\"\"\"\n",
    "Задание 6 (необязательное)\n",
    "Напишите функцию, которая будет проверять номер сотового телефона на валидность (только для российского формата), если он валиден, то переводить его в формат:\n",
    "+7-xxx-xxx-xx-xx\n",
    "Постарайтесь предусмотреть как можно больше адекватных форматов изначального ввода номера. Примеры работы программы:\n",
    "\n",
    "phone = '+7 955 555-55-55'\n",
    "Результат: +7-955-555-55-55\n",
    "\n",
    "phone = '8(955)555-55-55'\n",
    "Результат: +7-955-555-55-55\n",
    "\n",
    "phone = '+7 955 555 55 55'\n",
    "Результат: +7-955-555-55-55\n",
    "\n",
    "phone = '7(955) 555-55-55'\n",
    "Результат: +7-955-555-55-55\n",
    "\n",
    "phone = '423-555-55-5555'\n",
    "Результат: Номер не валиден\n",
    "\n",
    "phone = '123-456-789'\n",
    "Результат: Номер не валиден\n",
    "\"\"\"\n",
    "import re\n",
    "\n",
    "\n",
    "def check_phone_number(in_phone):\n",
    "    re_text = r\"^(8|(\\+*)7)(\\s*|\\()(\\d{3})(\\s*|\\)\\s*)(\\d{3})(\\s*|-)(\\d{2})(\\s*|-)(\\d{2})\"\n",
    "    res = re.search(re_text, in_phone)\n",
    "    if res:\n",
    "        print(f\"+7-{res.group(4)}-{res.group(6)}-{res.group(8)}-{res.group(10)}\")\n",
    "    else:\n",
    "        print(\"Номер не валиден\")\n",
    "\n",
    "\n",
    "phone = '+7 955 555-55-55'\n",
    "check_phone_number(phone)\n",
    "phone = '8(955)555-55-55'\n",
    "check_phone_number(phone)\n",
    "phone = '+7 955 555 55 55'\n",
    "check_phone_number(phone)\n",
    "phone = '7(955) 555-55-55'\n",
    "check_phone_number(phone)\n",
    "phone = '423-555-55-5555'\n",
    "check_phone_number(phone)\n",
    "phone = '123-456-789'\n",
    "check_phone_number(phone)\n"
   ]
  },
  {
   "cell_type": "code",
   "execution_count": null,
   "id": "01a396ef",
   "metadata": {},
   "outputs": [],
   "source": []
  }
 ],
 "metadata": {
  "kernelspec": {
   "display_name": "Python 3",
   "language": "python",
   "name": "python3"
  },
  "language_info": {
   "codemirror_mode": {
    "name": "ipython",
    "version": 3
   },
   "file_extension": ".py",
   "mimetype": "text/x-python",
   "name": "python",
   "nbconvert_exporter": "python",
   "pygments_lexer": "ipython3",
   "version": "3.8.8"
  }
 },
 "nbformat": 4,
 "nbformat_minor": 5
}
