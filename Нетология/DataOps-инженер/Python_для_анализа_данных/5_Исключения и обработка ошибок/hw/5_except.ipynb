{
 "cells": [
  {
   "cell_type": "code",
   "execution_count": 1,
   "id": "c237354f",
   "metadata": {},
   "outputs": [
    {
     "name": "stdout",
     "output_type": "stream",
     "text": [
      "2002-10-02 00:00:00\n",
      "2013-10-11 00:00:00\n",
      "1977-08-18 00:00:00\n"
     ]
    }
   ],
   "source": [
    "\"\"\"\n",
    "Задание 1\n",
    "Печатные газеты использовали свой формат дат для каждого выпуска.\n",
    "Для каждой газеты из списка напишите формат указанной даты для перевода в объект datetime:\n",
    "The Moscow Times - Wednesday, October 2, 2002\n",
    "The Guardian - Friday, 11.10.13\n",
    "Daily News - Thursday, 18 August 1977\n",
    "\"\"\"\n",
    "from datetime import datetime as dt\n",
    "import re\n",
    "\n",
    "\n",
    "def get_dt(in_str):\n",
    "    \"\"\"    \n",
    "    :param in_str: \n",
    "    :return: \n",
    "    \"\"\"\n",
    "    regex = re.compile(\"- .*\")\n",
    "    start_pos = regex.search(in_str)\n",
    "    if start_pos:\n",
    "        start_pos = regex.search(in_str).start() + 2\n",
    "        in_str = in_str[start_pos:]\n",
    "    lis_of_mask = [\"%A, %d %B %Y\", \"%A, %d.%m.%y\", \"%A, %B %d, %Y\", \"%Y-%m-%d\", ]\n",
    "    for m in lis_of_mask:\n",
    "        try:\n",
    "            return dt.strptime(in_str, m)\n",
    "        except Exception as e:\n",
    "            pass\n",
    "    print(f\"Не удалось найти подходящую маску для {in_str}\")\n",
    "    return None\n",
    "\n",
    "\n",
    "print(get_dt(\"The Moscow Times - Wednesday, October 2, 2002\"))\n",
    "print(get_dt(\"The Guardian - Friday, 11.10.13\"))\n",
    "print(get_dt(\"Daily News - Thursday, 18 August 1977\"))"
   ]
  },
  {
   "cell_type": "code",
   "execution_count": 2,
   "id": "122cd353",
   "metadata": {},
   "outputs": [
    {
     "name": "stdout",
     "output_type": "stream",
     "text": [
      "True\n",
      "False\n",
      "False\n"
     ]
    }
   ],
   "source": [
    "\"\"\"\n",
    "Задание 2\n",
    "Дан поток дат в формате YYYY-MM-DD, в которых встречаются некорректные значения:\n",
    "stream = [‘2018-04-02’, ‘2018-02-29’, ‘2018-19-02’]\n",
    "\n",
    "Напишите функцию, которая проверяет эти даты на корректность. \n",
    "Т. е. для каждой даты возвращает True (дата корректна) или False (некорректная дата).\n",
    "\"\"\"\n",
    "from datetime import datetime as dt\n",
    "\n",
    "\n",
    "def is_date_correct(in_args):\n",
    "    \"\"\"\n",
    "    in_args - строка\n",
    "    :param in_args:\n",
    "    :return:\n",
    "    \"\"\"\n",
    "    try:\n",
    "        dt.strptime(in_args, \"%Y-%m-%d\")\n",
    "        return True\n",
    "    except Exception as e:\n",
    "        return False\n",
    "\n",
    "\n",
    "stream = ['2018-04-02', '2018-02-29', '2018-19-02']\n",
    "for d in stream:\n",
    "    print(is_date_correct(d))\n"
   ]
  },
  {
   "cell_type": "code",
   "execution_count": 3,
   "id": "1c0b1c01",
   "metadata": {},
   "outputs": [
    {
     "name": "stdout",
     "output_type": "stream",
     "text": [
      "2021-11-15\n",
      "2021-11-16\n",
      "2021-11-17\n"
     ]
    }
   ],
   "source": [
    "\"\"\"\n",
    "Задание 3\n",
    "Напишите функцию date_range, которая возвращает список дат за период от start_date до end_date.\n",
    "Даты должны вводиться в формате YYYY-MM-DD. В случае неверного формата или при start_date > end_date \n",
    "должен возвращаться пустой список.\n",
    "\"\"\"\n",
    "import re\n",
    "from datetime import datetime as dt\n",
    "from datetime import timedelta as td\n",
    "\n",
    "\n",
    "def get_dt(in_str):\n",
    "    \"\"\"    \n",
    "    :param in_str: \n",
    "    :return: \n",
    "    \"\"\"\n",
    "    regex = re.compile(\"- .*\")\n",
    "    start_pos = regex.search(in_str)\n",
    "    if start_pos:\n",
    "        start_pos = regex.search(in_str).start() + 2\n",
    "        in_str = in_str[start_pos:]\n",
    "    lis_of_mask = [\"%A, %d %B %Y\", \"%A, %d.%m.%y\", \"%A, %B %d, %Y\", \"%Y-%m-%d\", ]\n",
    "    for m in lis_of_mask:\n",
    "        try:\n",
    "            return dt.strptime(in_str, m)\n",
    "        except Exception as e:\n",
    "            pass\n",
    "    print(f\"Не удалось найти подходящую маску для {in_str}\")\n",
    "    return None\n",
    "\n",
    "\n",
    "def generate_dates(start_date, end_date):\n",
    "    \"\"\"\n",
    "    :param start_date:\n",
    "    :param end_date:\n",
    "    :return:\n",
    "    \"\"\"\n",
    "    start_date = get_dt(in_str=start_date)\n",
    "    end_date = get_dt(in_str=end_date)\n",
    "    l = []\n",
    "    if (start_date and end_date) and (start_date <= end_date):\n",
    "        while start_date <= end_date:\n",
    "            l += [start_date]\n",
    "            start_date += td(days=1)\n",
    "    return l\n",
    "\n",
    "\n",
    "for d in generate_dates(start_date=\"2021-11-15\", end_date=\"2021-11-17\"):\n",
    "    print(dt.strftime(d, \"%Y-%m-%d\"))"
   ]
  },
  {
   "cell_type": "code",
   "execution_count": null,
   "id": "68e53eae",
   "metadata": {},
   "outputs": [],
   "source": [
    "\"\"\"\n",
    "Задание 4 (необязательное)\n",
    "Ваш коллега прислал код функции:\n",
    "\n",
    "DEFAULT_USER_COUNT = 3\n",
    "\n",
    "def delete_and_return_last_user(region, default_list=[‘A100’, ‘A101’, ‘A102’]):\n",
    "\"\"“\n",
    "Удаляет из списка default_list последнего пользователя\n",
    "и возвращает ID нового последнего пользователя.\n",
    "”\"\"\n",
    "element_to_delete = default_list[-1]\n",
    "default_list.remove(element_to_delete)\n",
    "\n",
    "1\n",
    "return default_list[DEFAULT_USER_COUNT-2]\n",
    "При однократном вызове этой функции все работает корректно:\n",
    "delete_and_return_last_user(1)\n",
    "‘A101’\n",
    "\n",
    "Однако, при повторном вызове получается ошибка IndexError: list index out of range.\n",
    "\n",
    "Задание:\n",
    "\n",
    "Что значит ошибка list index out of range?\n",
    "Почему при первом запуске функция работает корректно, а при втором - нет?\n",
    "\"\"\"\n",
    "Ответ:\n",
    "1. Ошибка \"list index out of range\" возникает, когда мы пытаемся получить доступ к недопустимому индексу в нашем списке.\n",
    "2. После второй итерации остается 1 элемент в списке, с 0 индексом, а default_list[DEFAULT_USER_COUNT - 2] обращается к первому индексу,\n",
    "который соответственно вне рамках списка, о чем и говорит соответствующая ошибка.\n"
   ]
  }
 ],
 "metadata": {
  "kernelspec": {
   "display_name": "Python 3",
   "language": "python",
   "name": "python3"
  },
  "language_info": {
   "codemirror_mode": {
    "name": "ipython",
    "version": 3
   },
   "file_extension": ".py",
   "mimetype": "text/x-python",
   "name": "python",
   "nbconvert_exporter": "python",
   "pygments_lexer": "ipython3",
   "version": "3.8.8"
  }
 },
 "nbformat": 4,
 "nbformat_minor": 5
}
