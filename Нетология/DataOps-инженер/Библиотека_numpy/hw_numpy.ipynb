{
 "cells": [
  {
   "cell_type": "code",
   "execution_count": 10,
   "id": "2a460b8a",
   "metadata": {},
   "outputs": [],
   "source": [
    "import numpy as np"
   ]
  },
  {
   "cell_type": "code",
   "execution_count": 5,
   "id": "3491c9ce",
   "metadata": {},
   "outputs": [
    {
     "name": "stdout",
     "output_type": "stream",
     "text": [
      "[9 8 7 6 5 4 3 2 1 0]\n"
     ]
    }
   ],
   "source": [
    "\"\"\"\n",
    "Задание 1\n",
    "Создайте numpy array с элементами от числа N до 0 (например, для N = 10 это будет array([9, 8, 7, 6, 5, 4, 3, 2, 1, 0])).\n",
    "\"\"\"\n",
    "\n",
    "print(np.arange(9, -1, -1))"
   ]
  },
  {
   "cell_type": "code",
   "execution_count": 6,
   "id": "f6948fa0",
   "metadata": {},
   "outputs": [
    {
     "name": "stdout",
     "output_type": "stream",
     "text": [
      "130.0\n"
     ]
    }
   ],
   "source": [
    "\"\"\"\n",
    "Задание 2\n",
    "Создайте диагональную матрицу с элементами от N до 0. Посчитайте сумму ее значений на диагонали.\n",
    "\"\"\"\n",
    "\n",
    "my_matrix = np.diag(np.linspace(2, 50, 5), k=0)\n",
    "my_arr = np.asarray(my_matrix)\n",
    "print(np.trace(my_arr))"
   ]
  },
  {
   "cell_type": "code",
   "execution_count": 7,
   "id": "71080631",
   "metadata": {},
   "outputs": [
    {
     "name": "stdout",
     "output_type": "stream",
     "text": [
      "[ 0.46666667  3.84444444 -5.55555556]\n"
     ]
    }
   ],
   "source": [
    "\"\"\"\n",
    "Задание 3\n",
    "Решите систему уравнений:\n",
    "4x + 2y + z = 4\n",
    "x + 3y = 12\n",
    "5y + 4z = -3\n",
    "\"\"\"\n",
    "\n",
    "A = np.array([[4, 2, 1], [1, 3, 0], [0, 5, 4]])\n",
    "B = np.array([4, 12, -3])\n",
    "X = np.linalg.inv(A).dot(B)\n",
    "\n",
    "print(X)"
   ]
  },
  {
   "cell_type": "code",
   "execution_count": 17,
   "id": "b8120b4c",
   "metadata": {},
   "outputs": [
    {
     "name": "stdout",
     "output_type": "stream",
     "text": [
      "Максимальное сходство с пользователем ID: 8\n"
     ]
    }
   ],
   "source": [
    "\"\"\"\n",
    "Задание 4\n",
    "Имеется матрица покупок в интернет-магазине. Столбец А - ID пользователя.\n",
    "Остальные столбцы - количество покупок категорий товаров этим пользователем:\n",
    "\"\"\"\n",
    "def cosine(users_stats, next_user_stats):\n",
    "    users_stats_Length = np.linalg.norm(users_stats)\n",
    "    next_user_stats_Length = np.linalg.norm(next_user_stats)    \n",
    "    return np.dot(users_stats, next_user_stats) / (users_stats_Length * next_user_stats_Length)\n",
    "\n",
    "\n",
    "users_stats = np.array(\n",
    "    [\n",
    "        [2, 1, 0, 0, 0, 0],\n",
    "        [1, 1, 2, 1, 0, 0],\n",
    "        [2, 0, 1, 0, 0, 0],\n",
    "        [1, 1, 2, 1, 0, 1],\n",
    "        [0, 0, 1, 2, 0, 0],\n",
    "        [0, 0, 0, 0, 0, 5],\n",
    "        [1, 0, 0, 0, 0, 0],\n",
    "        [0, 1, 1, 0, 0, 0],\n",
    "        [0, 0, 0, 1, 1, 3],\n",
    "        [1, 0, 0, 2, 1, 4]\n",
    "    ], \n",
    "    np.int32\n",
    ")\n",
    "\n",
    "next_user_stats = np.array([0, 1, 2, 0, 0, 0])\n",
    "\n",
    "array_vec = np.apply_along_axis(cosine, 1, users_stats, next_user_stats)\n",
    "# возвращает индекс макс совпадения\n",
    "best_user = np.argmax(array_vec) +1\n",
    "print(f\"Максимальное сходство с пользователем ID: {best_user}\")"
   ]
  },
  {
   "cell_type": "code",
   "execution_count": null,
   "id": "1a0cde2f",
   "metadata": {},
   "outputs": [],
   "source": []
  }
 ],
 "metadata": {
  "kernelspec": {
   "display_name": "Python 3",
   "language": "python",
   "name": "python3"
  },
  "language_info": {
   "codemirror_mode": {
    "name": "ipython",
    "version": 3
   },
   "file_extension": ".py",
   "mimetype": "text/x-python",
   "name": "python",
   "nbconvert_exporter": "python",
   "pygments_lexer": "ipython3",
   "version": "3.8.8"
  }
 },
 "nbformat": 4,
 "nbformat_minor": 5
}
