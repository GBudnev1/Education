{
 "cells": [
  {
   "cell_type": "code",
   "execution_count": null,
   "id": "b5c750f9",
   "metadata": {},
   "outputs": [],
   "source": [
    "# mapper\n",
    "with open('words_after_mapper.csv', 'w', encoding='UTF8') as f_mapper:\n",
    "    with open('keywords.csv', encoding='UTF8') as f:\n",
    "        for i, line in enumerate(f):\n",
    "            if i < 2:\n",
    "                continue\n",
    "            value = line.strip().split(',')[0]\n",
    "            f_mapper.write(f'{value}, 1\\n')\n",
    "\n",
    "            # if i > 5:\n",
    "            #    break\n",
    "\n",
    "# shuffle\n",
    "with open('words_after_mapper.csv', 'r+', encoding='UTF8') as f:\n",
    "    lines = f.readlines()\n",
    "    lines.sort()\n",
    "    f.seek(0)\n",
    "    f.writelines(lines)\n",
    "\n",
    "# reduce\n",
    "prev_value = None\n",
    "value_cnt = 0\n",
    "\n",
    "with open('words_after_mapper.csv', encoding='UTF8') as f:\n",
    "    for i, line in enumerate(f):\n",
    "        value, one = line.strip().split(',')\n",
    "        one = int(one)\n",
    "        if prev_value:\n",
    "            if prev_value == value:\n",
    "                value_cnt += one\n",
    "            else:\n",
    "                print(prev_value, value_cnt)\n",
    "                prev_value = value\n",
    "                value_cnt = one\n",
    "        else:\n",
    "            prev_value = value\n",
    "            value_cnt = one\n",
    "\n",
    "print(prev_value, value_cnt)\n"
   ]
  }
 ],
 "metadata": {
  "kernelspec": {
   "display_name": "Python 3",
   "language": "python",
   "name": "python3"
  },
  "language_info": {
   "codemirror_mode": {
    "name": "ipython",
    "version": 3
   },
   "file_extension": ".py",
   "mimetype": "text/x-python",
   "name": "python",
   "nbconvert_exporter": "python",
   "pygments_lexer": "ipython3",
   "version": "3.8.8"
  }
 },
 "nbformat": 4,
 "nbformat_minor": 5
}
