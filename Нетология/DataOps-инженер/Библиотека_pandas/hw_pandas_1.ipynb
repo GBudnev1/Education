{
 "cells": [
  {
   "cell_type": "code",
   "execution_count": null,
   "id": "a09f2e1d",
   "metadata": {},
   "outputs": [],
   "source": [
    "import pandas as pd\n",
    "from pathlib import Path\n",
    "import os"
   ]
  },
  {
   "cell_type": "code",
   "execution_count": null,
   "id": "045efc68",
   "metadata": {},
   "outputs": [],
   "source": [
    "\"\"\"\n",
    "Задание 1\n",
    "Скачайте с сайта https://grouplens.org/datasets/movielens/ датасет любого размера.\n",
    "Определите какому фильму было выставлено больше всего оценок 5.0.\n",
    "\"\"\"\n",
    "r_df = pd.read_csv(filepath_or_buffer=os.path.join(Path.home(), \"ratings.csv\"))\n",
    "print(r_df[r_df['rating'] == 5.0]['movieId'].value_counts().head(1))"
   ]
  },
  {
   "cell_type": "code",
   "execution_count": null,
   "id": "c66c9d3d",
   "metadata": {},
   "outputs": [],
   "source": [
    "\"\"\"\n",
    "Задание 2\n",
    "По данным файла power.csv посчитайте суммарное потребление стран Прибалтики (Латвия, Литва и Эстония)\n",
    "категорий 4, 12 и 21 за период с 2005 по 2010 года. Не учитывайте в расчетах отрицательные значения quantity.\n",
    "\"\"\"\n",
    "\n",
    "p_df = pd.read_csv(filepath_or_buffer=os.path.join(Path.home(), \"power.csv\"))\n",
    "p_df1 = p_df[(p_df['year'] >= 2005) & (p_df['year'] <= 2010) & (p_df['quantity'] > 0)]\n",
    "p_df2 = p_df1[p_df1.category.isin([4,12,21])]\n",
    "sum_ = p_df2[p_df2.country.str.contains('|'.join(['Lat','Lit','Est']))]['quantity'].sum()\n",
    "print(f\"суммарное потребление: {sum_}\")"
   ]
  },
  {
   "cell_type": "code",
   "execution_count": null,
   "id": "06b8727b",
   "metadata": {},
   "outputs": [],
   "source": [
    "\"\"\"\n",
    "Задание 3\n",
    "Выберите страницу любого сайта с табличными данными. Импортируйте таблицы в pandas dataframe.\n",
    "Примеры страниц (необязательно брать именно эти):\n",
    "https://fortrader.org/quotes\n",
    "https://www.finanz.ru/valyuty/v-realnom-vremeni\n",
    "\"\"\"\n",
    "df = pd.read_html(\"https://fortrader.org/quotes\")"
   ]
  }
 ],
 "metadata": {
  "kernelspec": {
   "display_name": "Python 3",
   "language": "python",
   "name": "python3"
  },
  "language_info": {
   "codemirror_mode": {
    "name": "ipython",
    "version": 3
   },
   "file_extension": ".py",
   "mimetype": "text/x-python",
   "name": "python",
   "nbconvert_exporter": "python",
   "pygments_lexer": "ipython3",
   "version": "3.8.8"
  }
 },
 "nbformat": 4,
 "nbformat_minor": 5
}
